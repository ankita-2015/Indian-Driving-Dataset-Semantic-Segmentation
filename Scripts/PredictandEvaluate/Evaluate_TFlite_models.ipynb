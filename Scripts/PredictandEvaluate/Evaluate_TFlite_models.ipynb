{
 "cells": [
  {
   "cell_type": "code",
   "execution_count": null,
   "metadata": {},
   "outputs": [],
   "source": [
    "#3 classes CS\n",
    "!python lite1.py"
   ]
  },
  {
   "cell_type": "code",
   "execution_count": 2,
   "metadata": {
    "scrolled": true
   },
   "outputs": [
    {
     "name": "stdout",
     "output_type": "stream",
     "text": [
      "Segmentation Models: using `keras` framework.\n",
      "  0%|                                                    | 0/51 [00:00<?, ?it/s]lite2.py:71: RuntimeWarning: invalid value encountered in true_divide\n",
      "  IoU = TP/float(TP + FP + FN)\n",
      "lite2.py:72: RuntimeWarning: invalid value encountered in true_divide\n",
      "  precision = TP/float(TP + FP)\n",
      "lite2.py:73: RuntimeWarning: invalid value encountered in true_divide\n",
      "  recall = TP/float(TP + FN)\n",
      "100%|███████████████████████████████████████████| 51/51 [19:43<00:00, 23.20s/it]\n"
     ]
    }
   ],
   "source": [
    "#3 classes IDD\n",
    "!python lite2.py"
   ]
  },
  {
   "cell_type": "code",
   "execution_count": 1,
   "metadata": {},
   "outputs": [
    {
     "name": "stdout",
     "output_type": "stream",
     "text": [
      "Segmentation Models: using `keras` framework.\n",
      "  0%|                                                    | 0/50 [00:00<?, ?it/s]lite3.py:71: RuntimeWarning: invalid value encountered in true_divide\n",
      "  IoU = TP/float(TP + FP + FN)\n",
      "lite3.py:72: RuntimeWarning: invalid value encountered in true_divide\n",
      "  precision = TP/float(TP + FP)\n",
      "lite3.py:73: RuntimeWarning: invalid value encountered in true_divide\n",
      "  recall = TP/float(TP + FN)\n",
      "lite3.py:76: RuntimeWarning: invalid value encountered in double_scalars\n",
      "  f1_score = ((1+beta**2)*precision*recall)/float(beta**2*precision + recall)\n",
      "lite3.py:79: RuntimeWarning: invalid value encountered in double_scalars\n",
      "  f2_score  = ((1+beta**2)*precision*recall)/float(beta**2*precision + recall)\n",
      "100%|███████████████████████████████████████████| 50/50 [17:59<00:00, 21.60s/it]\n"
     ]
    }
   ],
   "source": [
    "#3 classes BDD\n",
    "!python lite3.py"
   ]
  },
  {
   "cell_type": "code",
   "execution_count": 2,
   "metadata": {},
   "outputs": [
    {
     "data": {
      "text/html": [
       "<div>\n",
       "<style scoped>\n",
       "    .dataframe tbody tr th:only-of-type {\n",
       "        vertical-align: middle;\n",
       "    }\n",
       "\n",
       "    .dataframe tbody tr th {\n",
       "        vertical-align: top;\n",
       "    }\n",
       "\n",
       "    .dataframe thead th {\n",
       "        text-align: right;\n",
       "    }\n",
       "</style>\n",
       "<table border=\"1\" class=\"dataframe\">\n",
       "  <thead>\n",
       "    <tr style=\"text-align: right;\">\n",
       "      <th></th>\n",
       "      <th>mIoU</th>\n",
       "      <th>Precision</th>\n",
       "      <th>Recall</th>\n",
       "      <th>F1-score (Dice-score)</th>\n",
       "      <th>F2-score</th>\n",
       "    </tr>\n",
       "  </thead>\n",
       "  <tbody>\n",
       "    <tr>\n",
       "      <th>IDD_Dv3p_mobilenetV2_alpha1_lite_IDD</th>\n",
       "      <td>0.844199</td>\n",
       "      <td>0.906582</td>\n",
       "      <td>0.914220</td>\n",
       "      <td>0.908200</td>\n",
       "      <td>0.911217</td>\n",
       "    </tr>\n",
       "    <tr>\n",
       "      <th>IDD_Dv3p_mobilenetV2_alpha1_lite_BDD</th>\n",
       "      <td>0.635066</td>\n",
       "      <td>0.754241</td>\n",
       "      <td>0.795685</td>\n",
       "      <td>0.749719</td>\n",
       "      <td>0.767017</td>\n",
       "    </tr>\n",
       "    <tr>\n",
       "      <th>IDD_Dv3p_mobilenetV2_alpha1_lite_CS</th>\n",
       "      <td>0.704201</td>\n",
       "      <td>0.820825</td>\n",
       "      <td>0.834738</td>\n",
       "      <td>0.817251</td>\n",
       "      <td>0.824993</td>\n",
       "    </tr>\n",
       "  </tbody>\n",
       "</table>\n",
       "</div>"
      ],
      "text/plain": [
       "                                          mIoU  Precision    Recall  \\\n",
       "IDD_Dv3p_mobilenetV2_alpha1_lite_IDD  0.844199   0.906582  0.914220   \n",
       "IDD_Dv3p_mobilenetV2_alpha1_lite_BDD  0.635066   0.754241  0.795685   \n",
       "IDD_Dv3p_mobilenetV2_alpha1_lite_CS   0.704201   0.820825  0.834738   \n",
       "\n",
       "                                      F1-score (Dice-score)  F2-score  \n",
       "IDD_Dv3p_mobilenetV2_alpha1_lite_IDD               0.908200  0.911217  \n",
       "IDD_Dv3p_mobilenetV2_alpha1_lite_BDD               0.749719  0.767017  \n",
       "IDD_Dv3p_mobilenetV2_alpha1_lite_CS                0.817251  0.824993  "
      ]
     },
     "execution_count": 2,
     "metadata": {},
     "output_type": "execute_result"
    }
   ],
   "source": [
    "import pandas as pd\n",
    "import warnings\n",
    "warnings.filterwarnings('ignore')\n",
    "\n",
    "\n",
    "IDD_Dv3p_mobilenetV2_alpha1_lite_IDD = pd.read_csv(\"../../RESULTS/IDD_Dv3p_mobilenetV2_alpha1.0_bs16/TestResult_IDD_lite.csv\")\n",
    "IDD_Dv3p_mobilenetV2_alpha1_lite_BDD = pd.read_csv(\"../../RESULTS/IDD_Dv3p_mobilenetV2_alpha1.0_bs16/TestResult_BDD_lite.csv\")\n",
    "IDD_Dv3p_mobilenetV2_alpha1_lite_CS = pd.read_csv(\"../../RESULTS/IDD_Dv3p_mobilenetV2_alpha1.0_bs16/TestResult_CS_lite.csv\")\n",
    "\n",
    "d = pd.DataFrame({                            \n",
    "    \"IDD_Dv3p_mobilenetV2_alpha1_lite_IDD\":IDD_Dv3p_mobilenetV2_alpha1_lite_IDD.mean().values,\n",
    "    \"IDD_Dv3p_mobilenetV2_alpha1_lite_BDD\":IDD_Dv3p_mobilenetV2_alpha1_lite_BDD.mean().values,\n",
    "    \"IDD_Dv3p_mobilenetV2_alpha1_lite_CS\":IDD_Dv3p_mobilenetV2_alpha1_lite_CS.mean().values,    \n",
    "\n",
    "}, index=[\"mIoU\", \"Precision\", \"Recall\", \"F1-score (Dice-score)\",\"F2-score\"])\n",
    "d = d.T\n",
    "\n",
    "d[\"Classes\"]= [3]*3\n",
    "d[\"Model\"]= [\"DeeplabV3p\"]*3\n",
    "d[\"Backbone\"]=[\"MobilenetV2 alpha1.0\"]*3\n",
    "d[\"Trained Dataset\"]=[\"IDD\"]*3\n",
    "d[\"Test Dataset\"]=[\"IDD\",\"BDD\",\"CS\"]*1\n",
    "d[\"Trained Epochs\"] = [725]*3\n",
    "d[\"Batch Size\"] = [16]*3\n",
    "d[\"optimizer\"]=[\"adam,nadam(275 onwards) + with_Reduce_LR(350 onwards)\"]*3\n",
    "d[\"loss\"]=[\"dice_loss + categorical_crossentropy + jaccard_loss\"]*3\n",
    "\n",
    "d[\"Images Count\"] = [\n",
    "    len(IDD_Dv3p_mobilenetV2_alpha1_lite_IDD),\n",
    "    len(IDD_Dv3p_mobilenetV2_alpha1_lite_BDD),\n",
    "    len(IDD_Dv3p_mobilenetV2_alpha1_lite_CS),\n",
    "]\n",
    "final_d = d[['Classes', 'Model', 'Backbone','Trained Dataset', 'Test Dataset',\n",
    "       'Trained Epochs', 'Batch Size', 'optimizer', 'loss','Images Count','mIoU', 'Precision', 'Recall', 'F1-score (Dice-score)', 'F2-score']]\n",
    "final_d.to_csv(\"../../RESULTS/LiteModel_Analysis.csv\")\n",
    "final_d[['mIoU', 'Precision', 'Recall', 'F1-score (Dice-score)', 'F2-score']]"
   ]
  },
  {
   "cell_type": "code",
   "execution_count": null,
   "metadata": {},
   "outputs": [],
   "source": []
  }
 ],
 "metadata": {
  "kernelspec": {
   "display_name": "Python 3",
   "language": "python",
   "name": "python3"
  },
  "language_info": {
   "codemirror_mode": {
    "name": "ipython",
    "version": 3
   },
   "file_extension": ".py",
   "mimetype": "text/x-python",
   "name": "python",
   "nbconvert_exporter": "python",
   "pygments_lexer": "ipython3",
   "version": "3.8.10"
  }
 },
 "nbformat": 4,
 "nbformat_minor": 2
}
